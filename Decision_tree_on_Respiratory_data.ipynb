{
  "nbformat": 4,
  "nbformat_minor": 0,
  "metadata": {
    "colab": {
      "name": "Decision tree on Respiratory data.ipynb",
      "provenance": [],
      "authorship_tag": "ABX9TyMv/jnQIYny0bnrRvzOMDqC"
    },
    "kernelspec": {
      "name": "python3",
      "display_name": "Python 3"
    }
  },
  "cells": [
    {
      "cell_type": "code",
      "metadata": {
        "id": "y6ds15UXzo3e",
        "colab_type": "code",
        "colab": {}
      },
      "source": [
        "# Import libraries\n",
        "import numpy as np\n",
        "import pandas as pd"
      ],
      "execution_count": 0,
      "outputs": []
    },
    {
      "cell_type": "code",
      "metadata": {
        "id": "Rhm-ApyD0B-2",
        "colab_type": "code",
        "colab": {
          "base_uri": "https://localhost:8080/",
          "height": 121
        },
        "outputId": "d726ace6-47b6-41d8-cc8d-8c43d9345d49"
      },
      "source": [
        "from google.colab import drive\n",
        "drive.mount('gdrive', force_remount=True)"
      ],
      "execution_count": 2,
      "outputs": [
        {
          "output_type": "stream",
          "text": [
            "Go to this URL in a browser: https://accounts.google.com/o/oauth2/auth?client_id=947318989803-6bn6qk8qdgf4n4g3pfee6491hc0brc4i.apps.googleusercontent.com&redirect_uri=urn%3aietf%3awg%3aoauth%3a2.0%3aoob&response_type=code&scope=email%20https%3a%2f%2fwww.googleapis.com%2fauth%2fdocs.test%20https%3a%2f%2fwww.googleapis.com%2fauth%2fdrive%20https%3a%2f%2fwww.googleapis.com%2fauth%2fdrive.photos.readonly%20https%3a%2f%2fwww.googleapis.com%2fauth%2fpeopleapi.readonly\n",
            "\n",
            "Enter your authorization code:\n",
            "··········\n",
            "Mounted at gdrive\n"
          ],
          "name": "stdout"
        }
      ]
    },
    {
      "cell_type": "code",
      "metadata": {
        "id": "quxa2_iNz2x0",
        "colab_type": "code",
        "colab": {}
      },
      "source": [
        "# Reading the diagnosis data\n",
        "# diagnosisData = pd.read_csv(\"/kaggle/input/respiratory-sound-database/Respiratory_Sound_Database/Respiratory_Sound_Database/patient_diagnosis.csv\", header=None)\n",
        "\n",
        "diagnosisData = pd.read_csv(\"gdrive/My Drive/Respiratory_Sound_Database/Respiratory_Sound_Database/patient_diagnosis.csv\", header=None)\n",
        "diagnosisData.columns= [\"Patient No\", \"Disease\"]"
      ],
      "execution_count": 0,
      "outputs": []
    },
    {
      "cell_type": "code",
      "metadata": {
        "id": "yFCY19xW0AmR",
        "colab_type": "code",
        "colab": {}
      },
      "source": [
        "# Reading the demographic data\n",
        "demographicData = pd.read_csv(\"gdrive/My Drive/demographic_info.txt\", delimiter=\" \", header=None)\n",
        "demographicData.columns = [\"Patient No\", \"Age\", \"Gender\", \"BMI for Adults\", \"Weight (Children)\", \"Height (Children)\"]\n",
        "\n",
        "# Calculating children BMI and adding that as a new column\n",
        "demographicData['BMI for Children'] = demographicData.apply(lambda row: (row[4]/(row[5])**2)*10000, axis=1)\n",
        "# Dropping the Height & Weight for Children columns as they are now replaced by BMI for Children\n",
        "demographicData = demographicData.drop(['Weight (Children)', 'Height (Children)'], axis=1)\n",
        "# Adding disease labels to demographic data\n",
        "demographicData.insert(5, \"Disease\", diagnosisData.Disease)"
      ],
      "execution_count": 0,
      "outputs": []
    },
    {
      "cell_type": "code",
      "metadata": {
        "id": "NT_U7P8Ez3S9",
        "colab_type": "code",
        "colab": {}
      },
      "source": [
        "# Combine Adult and Children BMI together in a new df: demographicSummary\n",
        "combined = demographicData['BMI for Adults'].combine_first(demographicData['BMI for Children'])\n",
        "demographicSummary = demographicData.copy()\n",
        "demographicSummary.insert(3, \"BMI\", combined)\n",
        "demographicSummary = demographicSummary.drop([\"BMI for Adults\", \"BMI for Children\"], axis=1)"
      ],
      "execution_count": 0,
      "outputs": []
    },
    {
      "cell_type": "code",
      "metadata": {
        "id": "CyTyxfBwz3jm",
        "colab_type": "code",
        "colab": {
          "base_uri": "https://localhost:8080/",
          "height": 118
        },
        "outputId": "66f45859-7c30-4f63-a5ed-17bf87406571"
      },
      "source": [
        "# Review missing data in the demographic information\n",
        "print(demographicSummary.isnull().sum())"
      ],
      "execution_count": 6,
      "outputs": [
        {
          "output_type": "stream",
          "text": [
            "Patient No    0\n",
            "Age           1\n",
            "Gender        1\n",
            "BMI           9\n",
            "Disease       0\n",
            "dtype: int64\n"
          ],
          "name": "stdout"
        }
      ]
    },
    {
      "cell_type": "code",
      "metadata": {
        "id": "oa3vpwwXz3xq",
        "colab_type": "code",
        "colab": {}
      },
      "source": [
        "# Eliminate rows with at least three missing values\n",
        "demographicSummary = demographicSummary.dropna(thresh=3)"
      ],
      "execution_count": 0,
      "outputs": []
    },
    {
      "cell_type": "code",
      "metadata": {
        "id": "ePnCsa7dz39a",
        "colab_type": "code",
        "colab": {
          "base_uri": "https://localhost:8080/",
          "height": 34
        },
        "outputId": "9b0e28c1-2d0a-4684-9fb6-7eb6e3c464a3"
      },
      "source": [
        "# Review rows with remaining missing values\n",
        "missing_BMI_indices = [i for i,v in enumerate(demographicSummary['BMI'].isnull()) if v==True]\n",
        "print(\"Number of missing BMI data is\", len(missing_BMI_indices))\n",
        "missingData = demographicSummary.iloc[missing_BMI_indices]"
      ],
      "execution_count": 8,
      "outputs": [
        {
          "output_type": "stream",
          "text": [
            "Number of missing BMI data is 8\n"
          ],
          "name": "stdout"
        }
      ]
    },
    {
      "cell_type": "code",
      "metadata": {
        "id": "2Lwj37Id1mvD",
        "colab_type": "code",
        "colab": {
          "base_uri": "https://localhost:8080/",
          "height": 50
        },
        "outputId": "33331e4d-43fe-4cc0-9fb1-0f112a1679dd"
      },
      "source": [
        "# Impute missing values for BMI based on the mean of similar rows\n",
        "print(len(demographicSummary))\n",
        "for index, row in missingData.iterrows():\n",
        "    age = row[1]\n",
        "    gender = row[2]\n",
        "    disease = row[4]\n",
        "    if demographicSummary[ (demographicSummary['Gender'] == gender)\n",
        "                           & (demographicSummary['Disease'] == disease)\n",
        "                           & (age - 5 <= demographicSummary['Age']) & (demographicSummary['Age'] <= age + 5) & (demographicSummary['BMI'].isnull()==False) ]['Patient No'].count()>=3:\n",
        "\n",
        "        imputeFrom = demographicSummary[ (demographicSummary['Gender'] == gender)\n",
        "                           & (demographicSummary['Disease'] == disease)\n",
        "                           & (age - 5 <= demographicSummary['Age']) & (demographicSummary['Age'] <= age + 5) & (demographicSummary['BMI'].isnull()==False) ]\n",
        "        mean = imputeFrom['BMI'].mean()\n",
        "        demographicSummary.at[index, 'BMI'] = mean\n",
        "    else:\n",
        "        demographicSummary = demographicSummary.drop(index)\n",
        "print(len(demographicSummary)) # row index 7 (pt 108) and 96 (pt 197) have been removed"
      ],
      "execution_count": 9,
      "outputs": [
        {
          "output_type": "stream",
          "text": [
            "125\n",
            "123\n"
          ],
          "name": "stdout"
        }
      ]
    },
    {
      "cell_type": "code",
      "metadata": {
        "id": "cnLg20Ql1nBh",
        "colab_type": "code",
        "colab": {}
      },
      "source": [
        "# Reading annotation txt files\n",
        "import glob\n",
        "path = r'gdrive/My Drive/Respiratory_Sound_Database/Respiratory_Sound_Database/audio_and_txt_files'\n",
        "all_files = glob.glob(path + \"/*.txt\")\n",
        "def AnnotationData(filename, path):\n",
        "    \"\"\"\n",
        "    For each filename in a given path, extracts the information from the file naming convention and reads the information\n",
        "    within the file.\n",
        "    Returns two dataframes: one with information on file naming, other with information from the file itself.\n",
        "    \"\"\"\n",
        "    words = filename[len(path):-4].split('_')\n",
        "    recording_info = pd.DataFrame(data = [words], columns = ['Patient number', 'Recording index', 'Chest location','Acquisition mode','Recording equipment'])\n",
        "    recording_annotations = pd.read_csv(filename, names = ['t_start', 't_end', 'Crackles', 'Wheezes'], delim_whitespace=True)\n",
        "    return (recording_info, recording_annotations)"
      ],
      "execution_count": 0,
      "outputs": []
    },
    {
      "cell_type": "code",
      "metadata": {
        "id": "gTF1upCt1nPJ",
        "colab_type": "code",
        "colab": {}
      },
      "source": [
        "# Calling above function to read annotation files\n",
        "infoList = []\n",
        "for filename in all_files:\n",
        "    (info, annotation) = AnnotationData(filename, path)\n",
        "    # Number of crackles / wheezes for all respiratory cycles within each recording are summed\n",
        "    crackles = annotation['Crackles'].sum()\n",
        "    wheezes = annotation['Wheezes'].sum()\n",
        "    # Summed number of crackles / wheezes are normalized by the duration of the recording\n",
        "    duration = annotation.iloc[-1, 1] - annotation.iloc[0, 0]\n",
        "    info['Crackles'] = crackles/duration # crackles per second\n",
        "    info['Wheezes'] = wheezes/duration # wheezes per second\n",
        "    infoList.append(info)"
      ],
      "execution_count": 0,
      "outputs": []
    },
    {
      "cell_type": "code",
      "metadata": {
        "id": "Mc5uts-M1na5",
        "colab_type": "code",
        "colab": {}
      },
      "source": [
        "# Converting infoList to dataframe\n",
        "info = pd.concat(infoList, axis = 0).sort_values(by=\"Patient number\")\n",
        "# As there are several recordings for some patients, the averages of normalized number of crackles and wheezes are taken for each patient\n",
        "crackles_wheezes = info.iloc[:, [0,5,6]].groupby(\"Patient number\").mean().reset_index()"
      ],
      "execution_count": 0,
      "outputs": []
    },
    {
      "cell_type": "code",
      "metadata": {
        "id": "NSHc2BiZ1nnI",
        "colab_type": "code",
        "colab": {}
      },
      "source": [
        "# Combining crackles_wheezes with demographics summary data to input into Decision Tree\n",
        "dem_crackles_wheezes = pd.concat([demographicSummary, crackles_wheezes.iloc[:,[1,2]]], axis=1, sort=False).dropna()"
      ],
      "execution_count": 0,
      "outputs": []
    },
    {
      "cell_type": "code",
      "metadata": {
        "id": "FQF5IF2t1nzQ",
        "colab_type": "code",
        "colab": {}
      },
      "source": [
        "# Combining crackles_wheezes with demographics summary data to input into Decision Tree\n",
        "dem_crackles_wheezes = pd.concat([demographicSummary, crackles_wheezes.iloc[:,[1,2]]], axis=1, sort=False).dropna()"
      ],
      "execution_count": 0,
      "outputs": []
    },
    {
      "cell_type": "code",
      "metadata": {
        "id": "zEMPXJO34KP4",
        "colab_type": "code",
        "colab": {
          "base_uri": "https://localhost:8080/",
          "height": 118
        },
        "outputId": "9535fe76-2d9b-424f-8b01-849474dee798"
      },
      "source": [
        "dataset = dem_crackles_wheezes\n",
        "print(dataset.head())"
      ],
      "execution_count": 16,
      "outputs": [
        {
          "output_type": "stream",
          "text": [
            "   Patient No    Age Gender        BMI  Disease  Crackles   Wheezes\n",
            "0       101.0   3.00      F  19.385777     URTI  0.000000  0.000000\n",
            "1       102.0   0.75      F  18.389942  Healthy  0.000000  0.000000\n",
            "2       103.0  70.00      F  33.000000   Asthma  0.000000  0.203926\n",
            "3       104.0  70.00      F  28.470000     COPD  0.009503  0.065145\n",
            "4       105.0   7.00      F  17.558299     URTI  0.000000  0.000000\n"
          ],
          "name": "stdout"
        }
      ]
    },
    {
      "cell_type": "code",
      "metadata": {
        "id": "hykKsACs1n99",
        "colab_type": "code",
        "colab": {}
      },
      "source": [
        "# Dropping asthma and LRTI cases as these have only 1 patient\n",
        "dataset = dataset.drop(dataset[ (dataset.Disease == 'Asthma') | (dataset.Disease == 'LRTI') ].index).reset_index(drop=True)"
      ],
      "execution_count": 0,
      "outputs": []
    },
    {
      "cell_type": "code",
      "metadata": {
        "id": "Q49smfP81oIt",
        "colab_type": "code",
        "colab": {}
      },
      "source": [
        "X = dataset.iloc[:,[1,2,3,5,6]].values\n",
        "y = dataset.iloc[:,4].values"
      ],
      "execution_count": 0,
      "outputs": []
    },
    {
      "cell_type": "code",
      "metadata": {
        "id": "P208XAmG1oTT",
        "colab_type": "code",
        "colab": {}
      },
      "source": [
        "# encoding categorical data e.g. gender as a dummy variable\n",
        "from sklearn.preprocessing import LabelEncoder\n",
        "labelencoder_X = LabelEncoder()\n",
        "X[:,1] = labelencoder_X.fit_transform(X[:,1])\n",
        "\n",
        "# encoding categorical data e.g. disease outcome as a dummy variable\n",
        "y,class_names = pd.factorize(y)"
      ],
      "execution_count": 0,
      "outputs": []
    },
    {
      "cell_type": "code",
      "metadata": {
        "id": "nTcfF3BV2pht",
        "colab_type": "code",
        "colab": {}
      },
      "source": [
        "# Splitting the dataset into the Training set and Test set\n",
        "from sklearn.model_selection import train_test_split\n",
        "X_train, X_test, y_train, y_test = train_test_split(X, y, test_size = 0.25, stratify=y, random_state = 42)"
      ],
      "execution_count": 0,
      "outputs": []
    },
    {
      "cell_type": "code",
      "metadata": {
        "id": "58RaAKOS2qDs",
        "colab_type": "code",
        "colab": {
          "base_uri": "https://localhost:8080/",
          "height": 118
        },
        "outputId": "ac8d30c5-1601-4f57-839d-1f57cdd0de3a"
      },
      "source": [
        "# Fitting Classifier to the Training Set\n",
        "from sklearn.tree import DecisionTreeClassifier\n",
        "classifier = DecisionTreeClassifier(criterion='entropy',max_depth=3, random_state=42)\n",
        "classifier.fit(X_train, y_train)"
      ],
      "execution_count": 21,
      "outputs": [
        {
          "output_type": "execute_result",
          "data": {
            "text/plain": [
              "DecisionTreeClassifier(ccp_alpha=0.0, class_weight=None, criterion='entropy',\n",
              "                       max_depth=3, max_features=None, max_leaf_nodes=None,\n",
              "                       min_impurity_decrease=0.0, min_impurity_split=None,\n",
              "                       min_samples_leaf=1, min_samples_split=2,\n",
              "                       min_weight_fraction_leaf=0.0, presort='deprecated',\n",
              "                       random_state=42, splitter='best')"
            ]
          },
          "metadata": {
            "tags": []
          },
          "execution_count": 21
        }
      ]
    },
    {
      "cell_type": "code",
      "metadata": {
        "id": "4i-S5Jym2qQt",
        "colab_type": "code",
        "colab": {
          "base_uri": "https://localhost:8080/",
          "height": 423
        },
        "outputId": "a4ac0542-9840-4c92-a8c2-bee42e325982"
      },
      "source": [
        "# Model performance on training set\n",
        "y_pred_train =classifier.predict(X_train)\n",
        "\n",
        "from sklearn import metrics\n",
        "from sklearn.metrics import confusion_matrix, classification_report\n",
        "\n",
        "accuracy = metrics.accuracy_score(y_train, y_pred_train)\n",
        "print(\"Accuracy: {:.2f}\".format(accuracy))\n",
        "cm=confusion_matrix(y_train,y_pred_train)\n",
        "print('Confusion Matrix: \\n', cm)\n",
        "print(classification_report(y_train, y_pred_train, target_names=class_names))"
      ],
      "execution_count": 22,
      "outputs": [
        {
          "output_type": "stream",
          "text": [
            "Accuracy: 0.83\n",
            "Confusion Matrix: \n",
            " [[ 0 10  0  0  0  0]\n",
            " [ 0 19  0  0  0  0]\n",
            " [ 0  0 47  0  0  0]\n",
            " [ 0  0  1  4  0  0]\n",
            " [ 0  1  3  0  0  0]\n",
            " [ 0  0  0  0  0  5]]\n",
            "                precision    recall  f1-score   support\n",
            "\n",
            "          URTI       0.00      0.00      0.00        10\n",
            "       Healthy       0.63      1.00      0.78        19\n",
            "          COPD       0.92      1.00      0.96        47\n",
            "Bronchiectasis       1.00      0.80      0.89         5\n",
            "     Pneumonia       0.00      0.00      0.00         4\n",
            " Bronchiolitis       1.00      1.00      1.00         5\n",
            "\n",
            "      accuracy                           0.83        90\n",
            "     macro avg       0.59      0.63      0.60        90\n",
            "  weighted avg       0.73      0.83      0.77        90\n",
            "\n"
          ],
          "name": "stdout"
        },
        {
          "output_type": "stream",
          "text": [
            "/usr/local/lib/python3.6/dist-packages/sklearn/metrics/_classification.py:1272: UndefinedMetricWarning: Precision and F-score are ill-defined and being set to 0.0 in labels with no predicted samples. Use `zero_division` parameter to control this behavior.\n",
            "  _warn_prf(average, modifier, msg_start, len(result))\n"
          ],
          "name": "stderr"
        }
      ]
    },
    {
      "cell_type": "code",
      "metadata": {
        "id": "tnfkpYN72qc1",
        "colab_type": "code",
        "colab": {
          "base_uri": "https://localhost:8080/",
          "height": 423
        },
        "outputId": "5be88ae3-ab09-45cd-8c8a-50e5ee24f422"
      },
      "source": [
        "# Predicting the test results\n",
        "y_pred=classifier.predict(X_test)\n",
        "\n",
        "# Classification results on test set\n",
        "from sklearn import metrics\n",
        "accuracy = metrics.accuracy_score(y_test, y_pred)\n",
        "print(\"Accuracy: {:.2f}\".format(accuracy))\n",
        "\n",
        "from sklearn.metrics import confusion_matrix, classification_report\n",
        "cm=confusion_matrix(y_test,y_pred)\n",
        "print('Confusion Matrix: \\n', cm)\n",
        "print(classification_report(y_test, y_pred, target_names=class_names))"
      ],
      "execution_count": 23,
      "outputs": [
        {
          "output_type": "stream",
          "text": [
            "Accuracy: 0.74\n",
            "Confusion Matrix: \n",
            " [[ 0  3  0  0  0  0]\n",
            " [ 0  7  0  0  0  0]\n",
            " [ 0  0 16  0  0  0]\n",
            " [ 0  0  2  0  0  0]\n",
            " [ 0  0  2  0  0  0]\n",
            " [ 0  1  0  0  0  0]]\n",
            "                precision    recall  f1-score   support\n",
            "\n",
            "          URTI       0.00      0.00      0.00         3\n",
            "       Healthy       0.64      1.00      0.78         7\n",
            "          COPD       0.80      1.00      0.89        16\n",
            "Bronchiectasis       0.00      0.00      0.00         2\n",
            "     Pneumonia       0.00      0.00      0.00         2\n",
            " Bronchiolitis       0.00      0.00      0.00         1\n",
            "\n",
            "      accuracy                           0.74        31\n",
            "     macro avg       0.24      0.33      0.28        31\n",
            "  weighted avg       0.56      0.74      0.63        31\n",
            "\n"
          ],
          "name": "stdout"
        },
        {
          "output_type": "stream",
          "text": [
            "/usr/local/lib/python3.6/dist-packages/sklearn/metrics/_classification.py:1272: UndefinedMetricWarning: Precision and F-score are ill-defined and being set to 0.0 in labels with no predicted samples. Use `zero_division` parameter to control this behavior.\n",
            "  _warn_prf(average, modifier, msg_start, len(result))\n"
          ],
          "name": "stderr"
        }
      ]
    },
    {
      "cell_type": "code",
      "metadata": {
        "id": "oLtiwlMH24G4",
        "colab_type": "code",
        "colab": {
          "base_uri": "https://localhost:8080/",
          "height": 618
        },
        "outputId": "457a5c6f-bd2f-44e2-8d30-40acc50765aa"
      },
      "source": [
        "# Visualize the tree by graphiz\n",
        "import graphviz\n",
        "from sklearn import tree\n",
        "feature_names = ['Age','Gender', 'BMI', 'Crackles', 'Wheezes']\n",
        "dot_data = tree.export_graphviz(classifier, out_file=None, filled=True, rounded = True, feature_names=feature_names, class_names=class_names)\n",
        "graph = graphviz.Source(dot_data)\n",
        "graph"
      ],
      "execution_count": 24,
      "outputs": [
        {
          "output_type": "execute_result",
          "data": {
            "text/plain": [
              "<graphviz.files.Source at 0x7f5c58d0ea90>"
            ],
            "image/svg+xml": "<?xml version=\"1.0\" encoding=\"UTF-8\" standalone=\"no\"?>\n<!DOCTYPE svg PUBLIC \"-//W3C//DTD SVG 1.1//EN\"\n \"http://www.w3.org/Graphics/SVG/1.1/DTD/svg11.dtd\">\n<!-- Generated by graphviz version 2.40.1 (20161225.0304)\n -->\n<!-- Title: Tree Pages: 1 -->\n<svg width=\"1104pt\" height=\"433pt\"\n viewBox=\"0.00 0.00 1103.50 433.00\" xmlns=\"http://www.w3.org/2000/svg\" xmlns:xlink=\"http://www.w3.org/1999/xlink\">\n<g id=\"graph0\" class=\"graph\" transform=\"scale(1 1) rotate(0) translate(4 429)\">\n<title>Tree</title>\n<polygon fill=\"#ffffff\" stroke=\"transparent\" points=\"-4,4 -4,-429 1099.5,-429 1099.5,4 -4,4\"/>\n<!-- 0 -->\n<g id=\"node1\" class=\"node\">\n<title>0</title>\n<path fill=\"#b1f5cd\" stroke=\"#000000\" d=\"M631,-425C631,-425 468,-425 468,-425 462,-425 456,-419 456,-413 456,-413 456,-354 456,-354 456,-348 462,-342 468,-342 468,-342 631,-342 631,-342 637,-342 643,-348 643,-354 643,-354 643,-413 643,-413 643,-419 637,-425 631,-425\"/>\n<text text-anchor=\"middle\" x=\"549.5\" y=\"-409.8\" font-family=\"Helvetica,sans-Serif\" font-size=\"14.00\" fill=\"#000000\">Age &lt;= 18.5</text>\n<text text-anchor=\"middle\" x=\"549.5\" y=\"-394.8\" font-family=\"Helvetica,sans-Serif\" font-size=\"14.00\" fill=\"#000000\">entropy = 1.978</text>\n<text text-anchor=\"middle\" x=\"549.5\" y=\"-379.8\" font-family=\"Helvetica,sans-Serif\" font-size=\"14.00\" fill=\"#000000\">samples = 90</text>\n<text text-anchor=\"middle\" x=\"549.5\" y=\"-364.8\" font-family=\"Helvetica,sans-Serif\" font-size=\"14.00\" fill=\"#000000\">value = [10, 19, 47, 5, 4, 5]</text>\n<text text-anchor=\"middle\" x=\"549.5\" y=\"-349.8\" font-family=\"Helvetica,sans-Serif\" font-size=\"14.00\" fill=\"#000000\">class = COPD</text>\n</g>\n<!-- 1 -->\n<g id=\"node2\" class=\"node\">\n<title>1</title>\n<path fill=\"#dcf6b8\" stroke=\"#000000\" d=\"M531,-306C531,-306 376,-306 376,-306 370,-306 364,-300 364,-294 364,-294 364,-235 364,-235 364,-229 370,-223 376,-223 376,-223 531,-223 531,-223 537,-223 543,-229 543,-235 543,-235 543,-294 543,-294 543,-300 537,-306 531,-306\"/>\n<text text-anchor=\"middle\" x=\"453.5\" y=\"-290.8\" font-family=\"Helvetica,sans-Serif\" font-size=\"14.00\" fill=\"#000000\">Wheezes &lt;= 0.178</text>\n<text text-anchor=\"middle\" x=\"453.5\" y=\"-275.8\" font-family=\"Helvetica,sans-Serif\" font-size=\"14.00\" fill=\"#000000\">entropy = 1.542</text>\n<text text-anchor=\"middle\" x=\"453.5\" y=\"-260.8\" font-family=\"Helvetica,sans-Serif\" font-size=\"14.00\" fill=\"#000000\">samples = 35</text>\n<text text-anchor=\"middle\" x=\"453.5\" y=\"-245.8\" font-family=\"Helvetica,sans-Serif\" font-size=\"14.00\" fill=\"#000000\">value = [10, 19, 0, 0, 1, 5]</text>\n<text text-anchor=\"middle\" x=\"453.5\" y=\"-230.8\" font-family=\"Helvetica,sans-Serif\" font-size=\"14.00\" fill=\"#000000\">class = Healthy</text>\n</g>\n<!-- 0&#45;&gt;1 -->\n<g id=\"edge1\" class=\"edge\">\n<title>0&#45;&gt;1</title>\n<path fill=\"none\" stroke=\"#000000\" d=\"M515.9239,-341.8796C508.7309,-332.9633 501.0616,-323.4565 493.649,-314.268\"/>\n<polygon fill=\"#000000\" stroke=\"#000000\" points=\"496.2224,-311.8836 487.2195,-306.2981 490.7742,-316.2788 496.2224,-311.8836\"/>\n<text text-anchor=\"middle\" x=\"484.5602\" y=\"-327.4562\" font-family=\"Helvetica,sans-Serif\" font-size=\"14.00\" fill=\"#000000\">True</text>\n</g>\n<!-- 6 -->\n<g id=\"node7\" class=\"node\">\n<title>6</title>\n<path fill=\"#59e995\" stroke=\"#000000\" d=\"M719.5,-306C719.5,-306 573.5,-306 573.5,-306 567.5,-306 561.5,-300 561.5,-294 561.5,-294 561.5,-235 561.5,-235 561.5,-229 567.5,-223 573.5,-223 573.5,-223 719.5,-223 719.5,-223 725.5,-223 731.5,-229 731.5,-235 731.5,-235 731.5,-294 731.5,-294 731.5,-300 725.5,-306 719.5,-306\"/>\n<text text-anchor=\"middle\" x=\"646.5\" y=\"-290.8\" font-family=\"Helvetica,sans-Serif\" font-size=\"14.00\" fill=\"#000000\">Age &lt;= 56.5</text>\n<text text-anchor=\"middle\" x=\"646.5\" y=\"-275.8\" font-family=\"Helvetica,sans-Serif\" font-size=\"14.00\" fill=\"#000000\">entropy = 0.737</text>\n<text text-anchor=\"middle\" x=\"646.5\" y=\"-260.8\" font-family=\"Helvetica,sans-Serif\" font-size=\"14.00\" fill=\"#000000\">samples = 55</text>\n<text text-anchor=\"middle\" x=\"646.5\" y=\"-245.8\" font-family=\"Helvetica,sans-Serif\" font-size=\"14.00\" fill=\"#000000\">value = [0, 0, 47, 5, 3, 0]</text>\n<text text-anchor=\"middle\" x=\"646.5\" y=\"-230.8\" font-family=\"Helvetica,sans-Serif\" font-size=\"14.00\" fill=\"#000000\">class = COPD</text>\n</g>\n<!-- 0&#45;&gt;6 -->\n<g id=\"edge6\" class=\"edge\">\n<title>0&#45;&gt;6</title>\n<path fill=\"none\" stroke=\"#000000\" d=\"M583.4259,-341.8796C590.6938,-332.9633 598.443,-323.4565 605.9328,-314.268\"/>\n<polygon fill=\"#000000\" stroke=\"#000000\" points=\"608.824,-316.2606 612.4293,-306.2981 603.3982,-311.8379 608.824,-316.2606\"/>\n<text text-anchor=\"middle\" x=\"614.9625\" y=\"-327.4694\" font-family=\"Helvetica,sans-Serif\" font-size=\"14.00\" fill=\"#000000\">False</text>\n</g>\n<!-- 2 -->\n<g id=\"node3\" class=\"node\">\n<title>2</title>\n<path fill=\"#d3f3a6\" stroke=\"#000000\" d=\"M346,-187C346,-187 191,-187 191,-187 185,-187 179,-181 179,-175 179,-175 179,-116 179,-116 179,-110 185,-104 191,-104 191,-104 346,-104 346,-104 352,-104 358,-110 358,-116 358,-116 358,-175 358,-175 358,-181 352,-187 346,-187\"/>\n<text text-anchor=\"middle\" x=\"268.5\" y=\"-171.8\" font-family=\"Helvetica,sans-Serif\" font-size=\"14.00\" fill=\"#000000\">Age &lt;= 8.0</text>\n<text text-anchor=\"middle\" x=\"268.5\" y=\"-156.8\" font-family=\"Helvetica,sans-Serif\" font-size=\"14.00\" fill=\"#000000\">entropy = 1.109</text>\n<text text-anchor=\"middle\" x=\"268.5\" y=\"-141.8\" font-family=\"Helvetica,sans-Serif\" font-size=\"14.00\" fill=\"#000000\">samples = 30</text>\n<text text-anchor=\"middle\" x=\"268.5\" y=\"-126.8\" font-family=\"Helvetica,sans-Serif\" font-size=\"14.00\" fill=\"#000000\">value = [10, 19, 0, 0, 1, 0]</text>\n<text text-anchor=\"middle\" x=\"268.5\" y=\"-111.8\" font-family=\"Helvetica,sans-Serif\" font-size=\"14.00\" fill=\"#000000\">class = Healthy</text>\n</g>\n<!-- 1&#45;&gt;2 -->\n<g id=\"edge2\" class=\"edge\">\n<title>1&#45;&gt;2</title>\n<path fill=\"none\" stroke=\"#000000\" d=\"M388.796,-222.8796C373.5865,-213.0962 357.2718,-202.6019 341.7182,-192.5971\"/>\n<polygon fill=\"#000000\" stroke=\"#000000\" points=\"343.4713,-189.5632 333.1675,-187.0969 339.6843,-195.4505 343.4713,-189.5632\"/>\n</g>\n<!-- 5 -->\n<g id=\"node6\" class=\"node\">\n<title>5</title>\n<path fill=\"#e5399d\" stroke=\"#000000\" d=\"M526.5,-179.5C526.5,-179.5 388.5,-179.5 388.5,-179.5 382.5,-179.5 376.5,-173.5 376.5,-167.5 376.5,-167.5 376.5,-123.5 376.5,-123.5 376.5,-117.5 382.5,-111.5 388.5,-111.5 388.5,-111.5 526.5,-111.5 526.5,-111.5 532.5,-111.5 538.5,-117.5 538.5,-123.5 538.5,-123.5 538.5,-167.5 538.5,-167.5 538.5,-173.5 532.5,-179.5 526.5,-179.5\"/>\n<text text-anchor=\"middle\" x=\"457.5\" y=\"-164.3\" font-family=\"Helvetica,sans-Serif\" font-size=\"14.00\" fill=\"#000000\">entropy = 0.0</text>\n<text text-anchor=\"middle\" x=\"457.5\" y=\"-149.3\" font-family=\"Helvetica,sans-Serif\" font-size=\"14.00\" fill=\"#000000\">samples = 5</text>\n<text text-anchor=\"middle\" x=\"457.5\" y=\"-134.3\" font-family=\"Helvetica,sans-Serif\" font-size=\"14.00\" fill=\"#000000\">value = [0, 0, 0, 0, 0, 5]</text>\n<text text-anchor=\"middle\" x=\"457.5\" y=\"-119.3\" font-family=\"Helvetica,sans-Serif\" font-size=\"14.00\" fill=\"#000000\">class = Bronchiolitis</text>\n</g>\n<!-- 1&#45;&gt;5 -->\n<g id=\"edge5\" class=\"edge\">\n<title>1&#45;&gt;5</title>\n<path fill=\"none\" stroke=\"#000000\" d=\"M454.899,-222.8796C455.2575,-212.2134 455.6445,-200.7021 456.0075,-189.9015\"/>\n<polygon fill=\"#000000\" stroke=\"#000000\" points=\"459.5085,-189.9269 456.3466,-179.8149 452.5125,-189.6917 459.5085,-189.9269\"/>\n</g>\n<!-- 3 -->\n<g id=\"node4\" class=\"node\">\n<title>3</title>\n<path fill=\"#f0fbe1\" stroke=\"#000000\" d=\"M167,-68C167,-68 12,-68 12,-68 6,-68 0,-62 0,-56 0,-56 0,-12 0,-12 0,-6 6,0 12,0 12,0 167,0 167,0 173,0 179,-6 179,-12 179,-12 179,-56 179,-56 179,-62 173,-68 167,-68\"/>\n<text text-anchor=\"middle\" x=\"89.5\" y=\"-52.8\" font-family=\"Helvetica,sans-Serif\" font-size=\"14.00\" fill=\"#000000\">entropy = 1.209</text>\n<text text-anchor=\"middle\" x=\"89.5\" y=\"-37.8\" font-family=\"Helvetica,sans-Serif\" font-size=\"14.00\" fill=\"#000000\">samples = 23</text>\n<text text-anchor=\"middle\" x=\"89.5\" y=\"-22.8\" font-family=\"Helvetica,sans-Serif\" font-size=\"14.00\" fill=\"#000000\">value = [10, 12, 0, 0, 1, 0]</text>\n<text text-anchor=\"middle\" x=\"89.5\" y=\"-7.8\" font-family=\"Helvetica,sans-Serif\" font-size=\"14.00\" fill=\"#000000\">class = Healthy</text>\n</g>\n<!-- 2&#45;&gt;3 -->\n<g id=\"edge3\" class=\"edge\">\n<title>2&#45;&gt;3</title>\n<path fill=\"none\" stroke=\"#000000\" d=\"M201.847,-103.9815C185.8283,-94.0034 168.763,-83.3733 152.8972,-73.4904\"/>\n<polygon fill=\"#000000\" stroke=\"#000000\" points=\"154.5589,-70.4021 144.2204,-68.0856 150.8579,-76.3437 154.5589,-70.4021\"/>\n</g>\n<!-- 4 -->\n<g id=\"node5\" class=\"node\">\n<title>4</title>\n<path fill=\"#9de539\" stroke=\"#000000\" d=\"M347.5,-68C347.5,-68 209.5,-68 209.5,-68 203.5,-68 197.5,-62 197.5,-56 197.5,-56 197.5,-12 197.5,-12 197.5,-6 203.5,0 209.5,0 209.5,0 347.5,0 347.5,0 353.5,0 359.5,-6 359.5,-12 359.5,-12 359.5,-56 359.5,-56 359.5,-62 353.5,-68 347.5,-68\"/>\n<text text-anchor=\"middle\" x=\"278.5\" y=\"-52.8\" font-family=\"Helvetica,sans-Serif\" font-size=\"14.00\" fill=\"#000000\">entropy = 0.0</text>\n<text text-anchor=\"middle\" x=\"278.5\" y=\"-37.8\" font-family=\"Helvetica,sans-Serif\" font-size=\"14.00\" fill=\"#000000\">samples = 7</text>\n<text text-anchor=\"middle\" x=\"278.5\" y=\"-22.8\" font-family=\"Helvetica,sans-Serif\" font-size=\"14.00\" fill=\"#000000\">value = [0, 7, 0, 0, 0, 0]</text>\n<text text-anchor=\"middle\" x=\"278.5\" y=\"-7.8\" font-family=\"Helvetica,sans-Serif\" font-size=\"14.00\" fill=\"#000000\">class = Healthy</text>\n</g>\n<!-- 2&#45;&gt;4 -->\n<g id=\"edge4\" class=\"edge\">\n<title>2&#45;&gt;4</title>\n<path fill=\"none\" stroke=\"#000000\" d=\"M272.2236,-103.9815C272.9737,-95.618 273.7649,-86.7965 274.5232,-78.3409\"/>\n<polygon fill=\"#000000\" stroke=\"#000000\" points=\"278.0197,-78.5364 275.427,-68.2637 271.0477,-77.911 278.0197,-78.5364\"/>\n</g>\n<!-- 7 -->\n<g id=\"node8\" class=\"node\">\n<title>7</title>\n<path fill=\"#9ccef2\" stroke=\"#000000\" d=\"M712.5,-187C712.5,-187 574.5,-187 574.5,-187 568.5,-187 562.5,-181 562.5,-175 562.5,-175 562.5,-116 562.5,-116 562.5,-110 568.5,-104 574.5,-104 574.5,-104 712.5,-104 712.5,-104 718.5,-104 724.5,-110 724.5,-116 724.5,-116 724.5,-175 724.5,-175 724.5,-181 718.5,-187 712.5,-187\"/>\n<text text-anchor=\"middle\" x=\"643.5\" y=\"-171.8\" font-family=\"Helvetica,sans-Serif\" font-size=\"14.00\" fill=\"#000000\">BMI &lt;= 23.725</text>\n<text text-anchor=\"middle\" x=\"643.5\" y=\"-156.8\" font-family=\"Helvetica,sans-Serif\" font-size=\"14.00\" fill=\"#000000\">entropy = 0.918</text>\n<text text-anchor=\"middle\" x=\"643.5\" y=\"-141.8\" font-family=\"Helvetica,sans-Serif\" font-size=\"14.00\" fill=\"#000000\">samples = 6</text>\n<text text-anchor=\"middle\" x=\"643.5\" y=\"-126.8\" font-family=\"Helvetica,sans-Serif\" font-size=\"14.00\" fill=\"#000000\">value = [0, 0, 2, 4, 0, 0]</text>\n<text text-anchor=\"middle\" x=\"643.5\" y=\"-111.8\" font-family=\"Helvetica,sans-Serif\" font-size=\"14.00\" fill=\"#000000\">class = Bronchiectasis</text>\n</g>\n<!-- 6&#45;&gt;7 -->\n<g id=\"edge7\" class=\"edge\">\n<title>6&#45;&gt;7</title>\n<path fill=\"none\" stroke=\"#000000\" d=\"M645.4507,-222.8796C645.2441,-214.6838 645.0249,-205.9891 644.811,-197.5013\"/>\n<polygon fill=\"#000000\" stroke=\"#000000\" points=\"648.3047,-197.2067 644.5537,-187.2981 641.307,-197.3831 648.3047,-197.2067\"/>\n</g>\n<!-- 10 -->\n<g id=\"node11\" class=\"node\">\n<title>10</title>\n<path fill=\"#4ae78c\" stroke=\"#000000\" d=\"M900.5,-187C900.5,-187 754.5,-187 754.5,-187 748.5,-187 742.5,-181 742.5,-175 742.5,-175 742.5,-116 742.5,-116 742.5,-110 748.5,-104 754.5,-104 754.5,-104 900.5,-104 900.5,-104 906.5,-104 912.5,-110 912.5,-116 912.5,-116 912.5,-175 912.5,-175 912.5,-181 906.5,-187 900.5,-187\"/>\n<text text-anchor=\"middle\" x=\"827.5\" y=\"-171.8\" font-family=\"Helvetica,sans-Serif\" font-size=\"14.00\" fill=\"#000000\">Crackles &lt;= 0.026</text>\n<text text-anchor=\"middle\" x=\"827.5\" y=\"-156.8\" font-family=\"Helvetica,sans-Serif\" font-size=\"14.00\" fill=\"#000000\">entropy = 0.474</text>\n<text text-anchor=\"middle\" x=\"827.5\" y=\"-141.8\" font-family=\"Helvetica,sans-Serif\" font-size=\"14.00\" fill=\"#000000\">samples = 49</text>\n<text text-anchor=\"middle\" x=\"827.5\" y=\"-126.8\" font-family=\"Helvetica,sans-Serif\" font-size=\"14.00\" fill=\"#000000\">value = [0, 0, 45, 1, 3, 0]</text>\n<text text-anchor=\"middle\" x=\"827.5\" y=\"-111.8\" font-family=\"Helvetica,sans-Serif\" font-size=\"14.00\" fill=\"#000000\">class = COPD</text>\n</g>\n<!-- 6&#45;&gt;10 -->\n<g id=\"edge10\" class=\"edge\">\n<title>6&#45;&gt;10</title>\n<path fill=\"none\" stroke=\"#000000\" d=\"M709.805,-222.8796C724.6856,-213.0962 740.6476,-202.6019 755.8649,-192.5971\"/>\n<polygon fill=\"#000000\" stroke=\"#000000\" points=\"757.7977,-195.5151 764.2307,-187.0969 753.9521,-189.666 757.7977,-195.5151\"/>\n</g>\n<!-- 8 -->\n<g id=\"node9\" class=\"node\">\n<title>8</title>\n<path fill=\"#39e581\" stroke=\"#000000\" d=\"M533.5,-68C533.5,-68 395.5,-68 395.5,-68 389.5,-68 383.5,-62 383.5,-56 383.5,-56 383.5,-12 383.5,-12 383.5,-6 389.5,0 395.5,0 395.5,0 533.5,0 533.5,0 539.5,0 545.5,-6 545.5,-12 545.5,-12 545.5,-56 545.5,-56 545.5,-62 539.5,-68 533.5,-68\"/>\n<text text-anchor=\"middle\" x=\"464.5\" y=\"-52.8\" font-family=\"Helvetica,sans-Serif\" font-size=\"14.00\" fill=\"#000000\">entropy = 0.0</text>\n<text text-anchor=\"middle\" x=\"464.5\" y=\"-37.8\" font-family=\"Helvetica,sans-Serif\" font-size=\"14.00\" fill=\"#000000\">samples = 2</text>\n<text text-anchor=\"middle\" x=\"464.5\" y=\"-22.8\" font-family=\"Helvetica,sans-Serif\" font-size=\"14.00\" fill=\"#000000\">value = [0, 0, 2, 0, 0, 0]</text>\n<text text-anchor=\"middle\" x=\"464.5\" y=\"-7.8\" font-family=\"Helvetica,sans-Serif\" font-size=\"14.00\" fill=\"#000000\">class = COPD</text>\n</g>\n<!-- 7&#45;&gt;8 -->\n<g id=\"edge8\" class=\"edge\">\n<title>7&#45;&gt;8</title>\n<path fill=\"none\" stroke=\"#000000\" d=\"M576.847,-103.9815C560.8283,-94.0034 543.763,-83.3733 527.8972,-73.4904\"/>\n<polygon fill=\"#000000\" stroke=\"#000000\" points=\"529.5589,-70.4021 519.2204,-68.0856 525.8579,-76.3437 529.5589,-70.4021\"/>\n</g>\n<!-- 9 -->\n<g id=\"node10\" class=\"node\">\n<title>9</title>\n<path fill=\"#399de5\" stroke=\"#000000\" d=\"M713.5,-68C713.5,-68 575.5,-68 575.5,-68 569.5,-68 563.5,-62 563.5,-56 563.5,-56 563.5,-12 563.5,-12 563.5,-6 569.5,0 575.5,0 575.5,0 713.5,0 713.5,0 719.5,0 725.5,-6 725.5,-12 725.5,-12 725.5,-56 725.5,-56 725.5,-62 719.5,-68 713.5,-68\"/>\n<text text-anchor=\"middle\" x=\"644.5\" y=\"-52.8\" font-family=\"Helvetica,sans-Serif\" font-size=\"14.00\" fill=\"#000000\">entropy = 0.0</text>\n<text text-anchor=\"middle\" x=\"644.5\" y=\"-37.8\" font-family=\"Helvetica,sans-Serif\" font-size=\"14.00\" fill=\"#000000\">samples = 4</text>\n<text text-anchor=\"middle\" x=\"644.5\" y=\"-22.8\" font-family=\"Helvetica,sans-Serif\" font-size=\"14.00\" fill=\"#000000\">value = [0, 0, 0, 4, 0, 0]</text>\n<text text-anchor=\"middle\" x=\"644.5\" y=\"-7.8\" font-family=\"Helvetica,sans-Serif\" font-size=\"14.00\" fill=\"#000000\">class = Bronchiectasis</text>\n</g>\n<!-- 7&#45;&gt;9 -->\n<g id=\"edge9\" class=\"edge\">\n<title>7&#45;&gt;9</title>\n<path fill=\"none\" stroke=\"#000000\" d=\"M643.8724,-103.9815C643.9474,-95.618 644.0265,-86.7965 644.1023,-78.3409\"/>\n<polygon fill=\"#000000\" stroke=\"#000000\" points=\"647.6028,-78.2947 644.1927,-68.2637 640.6031,-78.2318 647.6028,-78.2947\"/>\n</g>\n<!-- 11 -->\n<g id=\"node12\" class=\"node\">\n<title>11</title>\n<path fill=\"#83efb0\" stroke=\"#000000\" d=\"M895.5,-68C895.5,-68 757.5,-68 757.5,-68 751.5,-68 745.5,-62 745.5,-56 745.5,-56 745.5,-12 745.5,-12 745.5,-6 751.5,0 757.5,0 757.5,0 895.5,0 895.5,0 901.5,0 907.5,-6 907.5,-12 907.5,-12 907.5,-56 907.5,-56 907.5,-62 901.5,-68 895.5,-68\"/>\n<text text-anchor=\"middle\" x=\"826.5\" y=\"-52.8\" font-family=\"Helvetica,sans-Serif\" font-size=\"14.00\" fill=\"#000000\">entropy = 0.845</text>\n<text text-anchor=\"middle\" x=\"826.5\" y=\"-37.8\" font-family=\"Helvetica,sans-Serif\" font-size=\"14.00\" fill=\"#000000\">samples = 11</text>\n<text text-anchor=\"middle\" x=\"826.5\" y=\"-22.8\" font-family=\"Helvetica,sans-Serif\" font-size=\"14.00\" fill=\"#000000\">value = [0, 0, 8, 0, 3, 0]</text>\n<text text-anchor=\"middle\" x=\"826.5\" y=\"-7.8\" font-family=\"Helvetica,sans-Serif\" font-size=\"14.00\" fill=\"#000000\">class = COPD</text>\n</g>\n<!-- 10&#45;&gt;11 -->\n<g id=\"edge11\" class=\"edge\">\n<title>10&#45;&gt;11</title>\n<path fill=\"none\" stroke=\"#000000\" d=\"M827.1276,-103.9815C827.0526,-95.618 826.9735,-86.7965 826.8977,-78.3409\"/>\n<polygon fill=\"#000000\" stroke=\"#000000\" points=\"830.3969,-78.2318 826.8073,-68.2637 823.3972,-78.2947 830.3969,-78.2318\"/>\n</g>\n<!-- 12 -->\n<g id=\"node13\" class=\"node\">\n<title>12</title>\n<path fill=\"#3ee684\" stroke=\"#000000\" d=\"M1083.5,-68C1083.5,-68 937.5,-68 937.5,-68 931.5,-68 925.5,-62 925.5,-56 925.5,-56 925.5,-12 925.5,-12 925.5,-6 931.5,0 937.5,0 937.5,0 1083.5,0 1083.5,0 1089.5,0 1095.5,-6 1095.5,-12 1095.5,-12 1095.5,-56 1095.5,-56 1095.5,-62 1089.5,-68 1083.5,-68\"/>\n<text text-anchor=\"middle\" x=\"1010.5\" y=\"-52.8\" font-family=\"Helvetica,sans-Serif\" font-size=\"14.00\" fill=\"#000000\">entropy = 0.176</text>\n<text text-anchor=\"middle\" x=\"1010.5\" y=\"-37.8\" font-family=\"Helvetica,sans-Serif\" font-size=\"14.00\" fill=\"#000000\">samples = 38</text>\n<text text-anchor=\"middle\" x=\"1010.5\" y=\"-22.8\" font-family=\"Helvetica,sans-Serif\" font-size=\"14.00\" fill=\"#000000\">value = [0, 0, 37, 1, 0, 0]</text>\n<text text-anchor=\"middle\" x=\"1010.5\" y=\"-7.8\" font-family=\"Helvetica,sans-Serif\" font-size=\"14.00\" fill=\"#000000\">class = COPD</text>\n</g>\n<!-- 10&#45;&gt;12 -->\n<g id=\"edge12\" class=\"edge\">\n<title>10&#45;&gt;12</title>\n<path fill=\"none\" stroke=\"#000000\" d=\"M895.6424,-103.9815C912.0192,-94.0034 929.4657,-83.3733 945.6862,-73.4904\"/>\n<polygon fill=\"#000000\" stroke=\"#000000\" points=\"947.8382,-76.2778 954.5568,-68.0856 944.1959,-70.2999 947.8382,-76.2778\"/>\n</g>\n</g>\n</svg>\n"
          },
          "metadata": {
            "tags": []
          },
          "execution_count": 24
        }
      ]
    }
  ]
}